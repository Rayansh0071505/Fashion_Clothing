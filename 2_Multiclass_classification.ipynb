{
 "cells": [
  {
   "cell_type": "markdown",
   "id": "0456c565",
   "metadata": {},
   "source": [
    "### Data-set is-:\n",
    "\n",
    "To practise multi-class classification, we're going to build a nueral network to classify image of different items of clothing\n",
    "\n",
    "we are taking tensorflow built-in dataset which is fashion clothing dataset which classify image on basis of clothes, uses 10 classes\n",
    "\n",
    "Datasets has more than 60k image\n",
    "\n",
    "`github link` - https://github.com/zalandoresearch/fashion-mnist\n",
    "`dataset link`- "
   ]
  },
  {
   "cell_type": "code",
   "execution_count": 1,
   "id": "c08d9e9c",
   "metadata": {},
   "outputs": [],
   "source": [
    "import tensorflow as tf\n",
    "from tensorflow.keras.datasets import fashion_mnist\n",
    "\n",
    "# The data has already been sorted into training and test\n",
    "(train_data, train_labels), (test_data,test_labels) = fashion_mnist.load_data()"
   ]
  },
  {
   "cell_type": "code",
   "execution_count": 2,
   "id": "e4042191",
   "metadata": {},
   "outputs": [
    {
     "name": "stdout",
     "output_type": "stream",
     "text": [
      "Training sample:\n",
      "[[  0   0   0   0   0   0   0   0   0   0   0   0   0   0   0   0   0   0\n",
      "    0   0   0   0   0   0   0   0   0   0]\n",
      " [  0   0   0   0   0   0   0   0   0   0   0   0   0   0   0   0   0   0\n",
      "    0   0   0   0   0   0   0   0   0   0]\n",
      " [  0   0   0   0   0   0   0   0   0   0   0   0   0   0   0   0   0   0\n",
      "    0   0   0   0   0   0   0   0   0   0]\n",
      " [  0   0   0   0   0   0   0   0   0   0   0   0   1   0   0  13  73   0\n",
      "    0   1   4   0   0   0   0   1   1   0]\n",
      " [  0   0   0   0   0   0   0   0   0   0   0   0   3   0  36 136 127  62\n",
      "   54   0   0   0   1   3   4   0   0   3]\n",
      " [  0   0   0   0   0   0   0   0   0   0   0   0   6   0 102 204 176 134\n",
      "  144 123  23   0   0   0   0  12  10   0]\n",
      " [  0   0   0   0   0   0   0   0   0   0   0   0   0   0 155 236 207 178\n",
      "  107 156 161 109  64  23  77 130  72  15]\n",
      " [  0   0   0   0   0   0   0   0   0   0   0   1   0  69 207 223 218 216\n",
      "  216 163 127 121 122 146 141  88 172  66]\n",
      " [  0   0   0   0   0   0   0   0   0   1   1   1   0 200 232 232 233 229\n",
      "  223 223 215 213 164 127 123 196 229   0]\n",
      " [  0   0   0   0   0   0   0   0   0   0   0   0   0 183 225 216 223 228\n",
      "  235 227 224 222 224 221 223 245 173   0]\n",
      " [  0   0   0   0   0   0   0   0   0   0   0   0   0 193 228 218 213 198\n",
      "  180 212 210 211 213 223 220 243 202   0]\n",
      " [  0   0   0   0   0   0   0   0   0   1   3   0  12 219 220 212 218 192\n",
      "  169 227 208 218 224 212 226 197 209  52]\n",
      " [  0   0   0   0   0   0   0   0   0   0   6   0  99 244 222 220 218 203\n",
      "  198 221 215 213 222 220 245 119 167  56]\n",
      " [  0   0   0   0   0   0   0   0   0   4   0   0  55 236 228 230 228 240\n",
      "  232 213 218 223 234 217 217 209  92   0]\n",
      " [  0   0   1   4   6   7   2   0   0   0   0   0 237 226 217 223 222 219\n",
      "  222 221 216 223 229 215 218 255  77   0]\n",
      " [  0   3   0   0   0   0   0   0   0  62 145 204 228 207 213 221 218 208\n",
      "  211 218 224 223 219 215 224 244 159   0]\n",
      " [  0   0   0   0  18  44  82 107 189 228 220 222 217 226 200 205 211 230\n",
      "  224 234 176 188 250 248 233 238 215   0]\n",
      " [  0  57 187 208 224 221 224 208 204 214 208 209 200 159 245 193 206 223\n",
      "  255 255 221 234 221 211 220 232 246   0]\n",
      " [  3 202 228 224 221 211 211 214 205 205 205 220 240  80 150 255 229 221\n",
      "  188 154 191 210 204 209 222 228 225   0]\n",
      " [ 98 233 198 210 222 229 229 234 249 220 194 215 217 241  65  73 106 117\n",
      "  168 219 221 215 217 223 223 224 229  29]\n",
      " [ 75 204 212 204 193 205 211 225 216 185 197 206 198 213 240 195 227 245\n",
      "  239 223 218 212 209 222 220 221 230  67]\n",
      " [ 48 203 183 194 213 197 185 190 194 192 202 214 219 221 220 236 225 216\n",
      "  199 206 186 181 177 172 181 205 206 115]\n",
      " [  0 122 219 193 179 171 183 196 204 210 213 207 211 210 200 196 194 191\n",
      "  195 191 198 192 176 156 167 177 210  92]\n",
      " [  0   0  74 189 212 191 175 172 175 181 185 188 189 188 193 198 204 209\n",
      "  210 210 211 188 188 194 192 216 170   0]\n",
      " [  2   0   0   0  66 200 222 237 239 242 246 243 244 221 220 193 191 179\n",
      "  182 182 181 176 166 168  99  58   0   0]\n",
      " [  0   0   0   0   0   0   0  40  61  44  72  41  35   0   0   0   0   0\n",
      "    0   0   0   0   0   0   0   0   0   0]\n",
      " [  0   0   0   0   0   0   0   0   0   0   0   0   0   0   0   0   0   0\n",
      "    0   0   0   0   0   0   0   0   0   0]\n",
      " [  0   0   0   0   0   0   0   0   0   0   0   0   0   0   0   0   0   0\n",
      "    0   0   0   0   0   0   0   0   0   0]]\n",
      "\n",
      "Training label:\n",
      "9\n",
      "\n"
     ]
    }
   ],
   "source": [
    "# showing the first data\n",
    "print(f\"Training sample:\\n{train_data[0]}\\n\") # \\n means new line\n",
    "print(f\"Training label:\\n{train_labels[0]}\\n\")"
   ]
  },
  {
   "cell_type": "markdown",
   "id": "6f394b25",
   "metadata": {},
   "source": [
    "Label\tDescription\n",
    "\n",
    "0\tT-shirt/top\n",
    "\n",
    "1\tTrouser\n",
    "\n",
    "2\tPullover\n",
    "\n",
    "3\tDress\n",
    "\n",
    "4\tCoat\n",
    "\n",
    "5\tSandal\n",
    "\n",
    "6\tShirt\n",
    "\n",
    "7\tSneaker\n",
    "\n",
    "8\tBag\n",
    "\n",
    "9\tAnkle boot"
   ]
  },
  {
   "cell_type": "markdown",
   "id": "60e9bb3a",
   "metadata": {},
   "source": [
    "#### so our first sample is ankle boot"
   ]
  },
  {
   "cell_type": "code",
   "execution_count": 3,
   "id": "e87d22f5",
   "metadata": {},
   "outputs": [
    {
     "data": {
      "text/plain": [
       "((28, 28), ())"
      ]
     },
     "execution_count": 3,
     "metadata": {},
     "output_type": "execute_result"
    }
   ],
   "source": [
    "# Check the shape of single example\n",
    "train_data[0].shape , train_labels[0].shape"
   ]
  },
  {
   "cell_type": "code",
   "execution_count": 4,
   "id": "2ca14a8c",
   "metadata": {},
   "outputs": [
    {
     "data": {
      "image/png": "[encoded data removed]",
      "text/plain": [
       "<Figure size 432x288 with 1 Axes>"
      ]
     },
     "metadata": {
      "needs_background": "light"
     },
     "output_type": "display_data"
    }
   ],
   "source": [
    "# Plot the single sample\n",
    "import matplotlib.pyplot as plt\n",
    "plt.imshow(train_data[0]);"
   ]
  },
  {
   "cell_type": "code",
   "execution_count": 5,
   "id": "9b2e503a",
   "metadata": {},
   "outputs": [
    {
     "data": {
      "text/plain": [
       "2"
      ]
     },
     "execution_count": 5,
     "metadata": {},
     "output_type": "execute_result"
    },
    {
     "data": {
      "image/png": "[encoded data removed]",
      "text/plain": [
       "<Figure size 432x288 with 1 Axes>"
      ]
     },
     "metadata": {
      "needs_background": "light"
     },
     "output_type": "display_data"
    }
   ],
   "source": [
    "# lets try another one\n",
    "plt.imshow(train_data[7]);train_labels[7]"
   ]
  },
  {
   "cell_type": "markdown",
   "id": "b851dfda",
   "metadata": {},
   "source": [
    "### create a small list so we can index onto our training labels so they're human readable\n"
   ]
  },
  {
   "cell_type": "code",
   "execution_count": 6,
   "id": "d6c080d4",
   "metadata": {},
   "outputs": [
    {
     "data": {
      "text/plain": [
       "10"
      ]
     },
     "execution_count": 6,
     "metadata": {},
     "output_type": "execute_result"
    }
   ],
   "source": [
    "class_names = ['T-shirt/top','Trouser','Pullover','Dress','Coat','Scandal','Shirt','Sneaker','Bag','Ankle Boot']\n",
    "\n",
    "len(class_names)"
   ]
  },
  {
   "cell_type": "code",
   "execution_count": 7,
   "id": "52536407",
   "metadata": {},
   "outputs": [],
   "source": [
    "# Plot an example image and its label\n",
    "def image_with_label(index_of_choice):\n",
    "    plt.imshow(train_data[index_of_choice],cmap=plt.cm.binary) # cm is binary as image is grayscale\n",
    "    plt.title(class_names[train_labels[index_of_choice]])"
   ]
  },
  {
   "cell_type": "code",
   "execution_count": 8,
   "id": "ef45f49c",
   "metadata": {},
   "outputs": [
    {
     "data": {
      "image/png": "[encoded data removed]",
      "text/plain": [
       "<Figure size 432x288 with 1 Axes>"
      ]
     },
     "metadata": {
      "needs_background": "light"
     },
     "output_type": "display_data"
    }
   ],
   "source": [
    "image_with_label(100)"
   ]
  },
  {
   "cell_type": "code",
   "execution_count": 9,
   "id": "738ea350",
   "metadata": {},
   "outputs": [
    {
     "data": {
      "image/png": "[encoded data removed]",
      "text/plain": [
       "<Figure size 720x504 with 4 Axes>"
      ]
     },
     "metadata": {
      "needs_background": "light"
     },
     "output_type": "display_data"
    }
   ],
   "source": [
    "# PLot multiple random image of fashion MNIST\n",
    "import random\n",
    "def multiple_random():\n",
    "    plt.figure(figsize=(10,7))\n",
    "    for i in range(4):\n",
    "        ax = plt.subplot(2,2,i+1) # 2 rows , 2 col , index = i+1\n",
    "        rand_index = random.choice(range(len(train_data)))\n",
    "        plt.imshow(train_data[rand_index],cmap=plt.cm.binary)\n",
    "        plt.title(class_names[train_labels[rand_index]])\n",
    "        plt.axis(False)\n",
    "        \n",
    "multiple_random()"
   ]
  },
  {
   "cell_type": "markdown",
   "id": "d79bbee1",
   "metadata": {},
   "source": [
    "## Building a multi-class classification model\n",
    "\n",
    "For our `multi-class classification model`, we can use a similar architecture to our binary classifiers, however, we're going to have a tweak few things:\n",
    "\n",
    "* Input shape = 28 x 28 shape of one image e.g train_data[0].shape\n",
    "\n",
    "\n",
    "* Output shape = 10 (one per class of clothing) e.g len(class_names)\n",
    "\n",
    "  We'll also change the activation parameter of our output layer to be \"softmax\" instead of 'sigmoid'. As we'll see the    \"softmax\" activation function outputs a series of values between 0 & 1 (the same shape as output shape, which together add up    to ~1. The index with the highest value is predicted by the model to be the most likely class.\n",
    "  \n",
    "  \n",
    "* Loss function = tf.keras.losses.CategoricalCrosstentropy()\n",
    "\n",
    "\n",
    "           * If your labels are one_hot encoded, use `CategoricalCrossentropy`,(e.g. they looked something like [0, 0, 1, 0,...0]\n",
    "         \n",
    "   \n",
    "           * If your labels are integer form , use `SpareCategoricalCrossentropy`\n",
    "         \n",
    "* Output layer activation = Softmax (not sigmoid) \n",
    "\n",
    "\n",
    "* We'll also use the validation_data parameter when calling the fit() function. This will give us an idea of how the model  performs on the test set during training."
   ]
  },
  {
   "cell_type": "code",
   "execution_count": 10,
   "id": "877426d7",
   "metadata": {},
   "outputs": [
    {
     "data": {
      "text/plain": [
       "(None, 784)"
      ]
     },
     "execution_count": 10,
     "metadata": {},
     "output_type": "execute_result"
    }
   ],
   "source": [
    "# Our data needs to be flattened from (28 x 28) to (None, 784)\n",
    "flatten_model = tf.keras.Sequential([tf.keras.layers.Flatten(input_shape=(28,28))])\n",
    "flatten_model.output_shape"
   ]
  },
  {
   "cell_type": "markdown",
   "id": "af0415ed",
   "metadata": {},
   "source": [
    "Use this `crossentropy loss function` when there are two or more label classes. We expect labels to be provided in a one_hot representation.\n",
    "\n",
    "If you want to provide labels as integers, please use `SparseCategoricalCrossentropy loss`. There should be # classes floating point values per feature.\n",
    "\n",
    "\n",
    "\n",
    "here our label is in integrs so we use `SparsecategoricalCrossentropy loss`"
   ]
  },
  {
   "cell_type": "code",
   "execution_count": 11,
   "id": "6deabf54",
   "metadata": {},
   "outputs": [
    {
     "name": "stdout",
     "output_type": "stream",
     "text": [
      "Epoch 1/10\n",
      "1875/1875 [==============================] - 12s 5ms/step - loss: 2.1715 - accuracy: 0.1620 - val_loss: 1.7809 - val_accuracy: 0.2077\n",
      "Epoch 2/10\n",
      "1875/1875 [==============================] - 9s 5ms/step - loss: 1.7061 - accuracy: 0.2529 - val_loss: 1.6479 - val_accuracy: 0.2826\n",
      "Epoch 3/10\n",
      "1875/1875 [==============================] - 5s 3ms/step - loss: 1.6293 - accuracy: 0.2813 - val_loss: 1.6061 - val_accuracy: 0.2776\n",
      "Epoch 4/10\n",
      "1875/1875 [==============================] - 3s 2ms/step - loss: 1.6010 - accuracy: 0.2893 - val_loss: 1.6009 - val_accuracy: 0.3115\n",
      "Epoch 5/10\n",
      "1875/1875 [==============================] - 4s 2ms/step - loss: 1.5764 - accuracy: 0.3143 - val_loss: 1.5327 - val_accuracy: 0.3461\n",
      "Epoch 6/10\n",
      "1875/1875 [==============================] - 3s 2ms/step - loss: 1.5248 - accuracy: 0.3515 - val_loss: 1.5118 - val_accuracy: 0.3608\n",
      "Epoch 7/10\n",
      "1875/1875 [==============================] - 3s 2ms/step - loss: 1.4476 - accuracy: 0.3923 - val_loss: 1.3184 - val_accuracy: 0.4453\n",
      "Epoch 8/10\n",
      "1875/1875 [==============================] - 3s 2ms/step - loss: 1.2931 - accuracy: 0.4489 - val_loss: 1.2642 - val_accuracy: 0.4573\n",
      "Epoch 9/10\n",
      "1875/1875 [==============================] - 3s 2ms/step - loss: 1.2550 - accuracy: 0.4613 - val_loss: 1.2064 - val_accuracy: 0.5012\n",
      "Epoch 10/10\n",
      "1875/1875 [==============================] - 3s 2ms/step - loss: 1.1257 - accuracy: 0.5248 - val_loss: 1.0930 - val_accuracy: 0.5559\n"
     ]
    }
   ],
   "source": [
    "# Set the random seed\n",
    "tf.random.set_seed(42)\n",
    "\n",
    "# Create the model\n",
    "model_1 = tf.keras.Sequential([\n",
    "    tf.keras.layers.Flatten(input_shape=(28,28)), # it flatten the input for example if shape is (2,8,6) then it will convert it to (None,96)\n",
    "    tf.keras.layers.Dense(4,activation=\"relu\"),\n",
    "    tf.keras.layers.Dense(4,activation=\"relu\"),\n",
    "    tf.keras.layers.Dense(10,activation=tf.keras.activations.softmax) #output layer\n",
    "])\n",
    "\n",
    "# Compile the model\n",
    "model_1.compile(loss=tf.keras.losses.SparseCategoricalCrossentropy(),\n",
    "                optimizer=tf.keras.optimizers.Adam(),\n",
    "                metrics=[\"accuracy\"])\n",
    "\n",
    "# Fit the model\n",
    "non_norm_history = model_1.fit(train_data,\n",
    "                               train_labels,\n",
    "                               epochs=10,\n",
    "                               validation_data=(test_data, test_labels))"
   ]
  },
  {
   "cell_type": "markdown",
   "id": "77c7b760",
   "metadata": {},
   "source": [
    "# OR use `one hot encode` instead of `SparseCategoricalCrossentropy`"
   ]
  },
  {
   "cell_type": "code",
   "execution_count": 12,
   "id": "9fe586f2",
   "metadata": {},
   "outputs": [
    {
     "name": "stdout",
     "output_type": "stream",
     "text": [
      "Epoch 1/10\n",
      "1875/1875 [==============================] - 3s 2ms/step - loss: 2.1682 - accuracy: 0.1600 - val_loss: 1.7858 - val_accuracy: 0.2101\n",
      "Epoch 2/10\n",
      "1875/1875 [==============================] - 3s 2ms/step - loss: 1.7057 - accuracy: 0.2535 - val_loss: 1.6487 - val_accuracy: 0.2945\n",
      "Epoch 3/10\n",
      "1875/1875 [==============================] - 3s 2ms/step - loss: 1.6350 - accuracy: 0.2811 - val_loss: 1.6191 - val_accuracy: 0.2767\n",
      "Epoch 4/10\n",
      "1875/1875 [==============================] - 3s 2ms/step - loss: 1.6120 - accuracy: 0.2866 - val_loss: 1.6136 - val_accuracy: 0.2976\n",
      "Epoch 5/10\n",
      "1875/1875 [==============================] - 3s 2ms/step - loss: 1.5976 - accuracy: 0.2973 - val_loss: 1.5981 - val_accuracy: 0.2851\n",
      "Epoch 6/10\n",
      "1875/1875 [==============================] - 3s 2ms/step - loss: 1.5903 - accuracy: 0.3025 - val_loss: 1.5685 - val_accuracy: 0.3137\n",
      "Epoch 7/10\n",
      "1875/1875 [==============================] - 3s 2ms/step - loss: 1.5773 - accuracy: 0.3202 - val_loss: 1.5671 - val_accuracy: 0.3222\n",
      "Epoch 8/10\n",
      "1875/1875 [==============================] - 3s 2ms/step - loss: 1.5745 - accuracy: 0.3206 - val_loss: 1.5695 - val_accuracy: 0.3358\n",
      "Epoch 9/10\n",
      "1875/1875 [==============================] - 3s 2ms/step - loss: 1.5798 - accuracy: 0.3182 - val_loss: 1.5624 - val_accuracy: 0.3274\n",
      "Epoch 10/10\n",
      "1875/1875 [==============================] - 3s 2ms/step - loss: 1.5649 - accuracy: 0.3242 - val_loss: 1.5521 - val_accuracy: 0.3369\n"
     ]
    }
   ],
   "source": [
    "# Set random seed\n",
    "tf.random.set_seed(42)\n",
    "\n",
    "# Create the model\n",
    "model_12 = tf.keras.Sequential([\n",
    "  tf.keras.layers.Flatten(input_shape=(28, 28)), # input layer (we had to reshape 28x28 to 784, the Flatten layer does this for us)\n",
    "  tf.keras.layers.Dense(4, activation=\"relu\"),\n",
    "  tf.keras.layers.Dense(4, activation=\"relu\"),\n",
    "  tf.keras.layers.Dense(10, activation=\"softmax\") # output shape is 10, activation is softmax , as 10 different classes are there \n",
    "])\n",
    "\n",
    "# Compile the model\n",
    "model_12.compile(loss=tf.keras.losses.CategoricalCrossentropy(), # different loss function for multiclass classifcation\n",
    "                 optimizer=tf.keras.optimizers.Adam(),\n",
    "                 metrics=[\"accuracy\"])\n",
    "\n",
    "# Fit the model\n",
    "non_norm_history = model_12.fit(train_data,\n",
    "                                tf.one_hot(train_labels,depth=10),\n",
    "                                epochs=10,\n",
    "                                validation_data=(test_data, tf.one_hot(test_labels,depth=10))) # see how the model performs on the test set during training\n",
    "\n",
    "\n",
    "\n",
    "\n",
    "\n",
    "# somehow not working you try and let me know"
   ]
  },
  {
   "cell_type": "code",
   "execution_count": 13,
   "id": "3a8d2cde",
   "metadata": {},
   "outputs": [
    {
     "data": {
      "text/plain": [
       "<tf.Tensor: shape=(60000, 10), dtype=float32, numpy=\n",
       "array([[0., 0., 0., ..., 0., 0., 1.],\n",
       "       [1., 0., 0., ..., 0., 0., 0.],\n",
       "       [1., 0., 0., ..., 0., 0., 0.],\n",
       "       ...,\n",
       "       [0., 0., 0., ..., 0., 0., 0.],\n",
       "       [1., 0., 0., ..., 0., 0., 0.],\n",
       "       [0., 0., 0., ..., 0., 0., 0.]], dtype=float32)>"
      ]
     },
     "execution_count": 13,
     "metadata": {},
     "output_type": "execute_result"
    }
   ],
   "source": [
    "tf.one_hot(train_labels,depth=10)"
   ]
  },
  {
   "cell_type": "code",
   "execution_count": 14,
   "id": "88634f2d",
   "metadata": {},
   "outputs": [
    {
     "name": "stdout",
     "output_type": "stream",
     "text": [
      "Model: \"sequential_1\"\n",
      "_________________________________________________________________\n",
      " Layer (type)                Output Shape              Param #   \n",
      "=================================================================\n",
      " flatten_1 (Flatten)         (None, 784)               0         \n",
      "                                                                 \n",
      " dense (Dense)               (None, 4)                 3140      \n",
      "                                                                 \n",
      " dense_1 (Dense)             (None, 4)                 20        \n",
      "                                                                 \n",
      " dense_2 (Dense)             (None, 10)                50        \n",
      "                                                                 \n",
      "=================================================================\n",
      "Total params: 3,210\n",
      "Trainable params: 3,210\n",
      "Non-trainable params: 0\n",
      "_________________________________________________________________\n"
     ]
    }
   ],
   "source": [
    "model_1.summary()"
   ]
  },
  {
   "cell_type": "markdown",
   "id": "bb4babec",
   "metadata": {},
   "source": [
    "#### Nueral Networks prefer data to be scaled (or normalized), this means they like to have the numbers in the tensors they try to find pattern b/w 0&1 "
   ]
  },
  {
   "cell_type": "code",
   "execution_count": 15,
   "id": "31a9fa56",
   "metadata": {},
   "outputs": [
    {
     "data": {
      "text/plain": [
       "(0, 255)"
      ]
     },
     "execution_count": 15,
     "metadata": {},
     "output_type": "execute_result"
    }
   ],
   "source": [
    "train_data.min(),train_data.max()"
   ]
  },
  {
   "cell_type": "markdown",
   "id": "a8cc5d15",
   "metadata": {},
   "source": [
    "### We can get our training and testing data between 0 & 1 by divinding by the maximum (255)\n"
   ]
  },
  {
   "cell_type": "code",
   "execution_count": 16,
   "id": "e0371c84",
   "metadata": {},
   "outputs": [
    {
     "data": {
      "text/plain": [
       "(0.0, 1.0)"
      ]
     },
     "execution_count": 16,
     "metadata": {},
     "output_type": "execute_result"
    }
   ],
   "source": [
    "train_data_norm = train_data/ 255.0 # 255.0 is float so we can get the value b/w 0 or 1\n",
    "test_data_norm = test_data/255.0\n",
    "\n",
    "# Check the min and max values of the scaled training data\n",
    "train_data_norm.min(), train_data_norm.max()"
   ]
  },
  {
   "cell_type": "code",
   "execution_count": 17,
   "id": "9332ff91",
   "metadata": {},
   "outputs": [
    {
     "name": "stdout",
     "output_type": "stream",
     "text": [
      "Epoch 1/10\n",
      "1875/1875 [==============================] - 3s 2ms/step - loss: 1.0348 - accuracy: 0.6474 - val_loss: 0.6937 - val_accuracy: 0.7617\n",
      "Epoch 2/10\n",
      "1875/1875 [==============================] - 3s 2ms/step - loss: 0.6376 - accuracy: 0.7757 - val_loss: 0.6400 - val_accuracy: 0.7820\n",
      "Epoch 3/10\n",
      "1875/1875 [==============================] - 3s 2ms/step - loss: 0.5942 - accuracy: 0.7914 - val_loss: 0.6247 - val_accuracy: 0.7783\n",
      "Epoch 4/10\n",
      "1875/1875 [==============================] - 3s 2ms/step - loss: 0.5750 - accuracy: 0.7979 - val_loss: 0.6078 - val_accuracy: 0.7881\n",
      "Epoch 5/10\n",
      "1875/1875 [==============================] - 3s 2ms/step - loss: 0.5641 - accuracy: 0.8006 - val_loss: 0.6169 - val_accuracy: 0.7881\n",
      "Epoch 6/10\n",
      "1875/1875 [==============================] - 3s 2ms/step - loss: 0.5544 - accuracy: 0.8043 - val_loss: 0.5855 - val_accuracy: 0.7951\n",
      "Epoch 7/10\n",
      "1875/1875 [==============================] - 3s 2ms/step - loss: 0.5488 - accuracy: 0.8063 - val_loss: 0.6097 - val_accuracy: 0.7836\n",
      "Epoch 8/10\n",
      "1875/1875 [==============================] - 3s 2ms/step - loss: 0.5428 - accuracy: 0.8077 - val_loss: 0.5787 - val_accuracy: 0.7971\n",
      "Epoch 9/10\n",
      "1875/1875 [==============================] - 3s 2ms/step - loss: 0.5373 - accuracy: 0.8097 - val_loss: 0.5698 - val_accuracy: 0.7977\n",
      "Epoch 10/10\n",
      "1875/1875 [==============================] - 3s 2ms/step - loss: 0.5360 - accuracy: 0.8124 - val_loss: 0.5658 - val_accuracy: 0.8014\n"
     ]
    }
   ],
   "source": [
    "# Now as our data is normalised\n",
    "\n",
    "# set the random seed\n",
    "tf.random.set_seed(42)\n",
    "\n",
    "# Create the model \n",
    "model_2 = tf.keras.Sequential([\n",
    "    tf.keras.layers.Flatten(input_shape=(28, 28)),\n",
    "    tf.keras.layers.Dense(4, activation='relu'),\n",
    "    tf.keras.layers.Dense(4, activation='relu'),\n",
    "    tf.keras.layers.Dense(10, activation='softmax')\n",
    "])\n",
    "\n",
    "# compile the model\n",
    "model_2.compile(loss=tf.keras.losses.SparseCategoricalCrossentropy(),\n",
    "                optimizer=tf.keras.optimizers.Adam(),\n",
    "                metrics=['accuracy'])\n",
    "\n",
    "# Fit the model\n",
    "norm_history = model_2.fit(train_data_norm,\n",
    "                           train_labels,\n",
    "                          epochs=10,\n",
    "                          validation_data=(test_data_norm,test_labels))"
   ]
  },
  {
   "cell_type": "markdown",
   "id": "4109d1ef",
   "metadata": {},
   "source": [
    "###  Nueral network tends to prefer data in numerical form as well as scaled/normalized (numbers between 0 and 1) you can as we normalize our data our accuracy shot from 35% to 80% 🚀🚀🚀\n"
   ]
  },
  {
   "cell_type": "code",
   "execution_count": 18,
   "id": "bf161852",
   "metadata": {},
   "outputs": [
    {
     "data": {
      "text/plain": [
       "{'loss': [1.0347838401794434,\n",
       "  0.6375991702079773,\n",
       "  0.5942121148109436,\n",
       "  0.5749582648277283,\n",
       "  0.5641123056411743,\n",
       "  0.5544357895851135,\n",
       "  0.5487954020500183,\n",
       "  0.5428295135498047,\n",
       "  0.5372939109802246,\n",
       "  0.5359908938407898],\n",
       " 'accuracy': [0.647433340549469,\n",
       "  0.7756666541099548,\n",
       "  0.7913833260536194,\n",
       "  0.7979166507720947,\n",
       "  0.800599992275238,\n",
       "  0.8042666912078857,\n",
       "  0.8062833547592163,\n",
       "  0.8077333569526672,\n",
       "  0.8096500039100647,\n",
       "  0.812416672706604],\n",
       " 'val_loss': [0.6937333941459656,\n",
       "  0.6400147080421448,\n",
       "  0.6247133016586304,\n",
       "  0.6077598929405212,\n",
       "  0.6168836355209351,\n",
       "  0.585527777671814,\n",
       "  0.6096576452255249,\n",
       "  0.5786883234977722,\n",
       "  0.5698306560516357,\n",
       "  0.5658250451087952],\n",
       " 'val_accuracy': [0.7616999745368958,\n",
       "  0.7820000052452087,\n",
       "  0.7782999873161316,\n",
       "  0.788100004196167,\n",
       "  0.788100004196167,\n",
       "  0.7950999736785889,\n",
       "  0.7835999727249146,\n",
       "  0.7971000075340271,\n",
       "  0.7976999878883362,\n",
       "  0.8014000058174133]}"
      ]
     },
     "execution_count": 18,
     "metadata": {},
     "output_type": "execute_result"
    }
   ],
   "source": [
    "# to see work of ''.history'\n",
    "a=norm_history.history\n",
    "a"
   ]
  },
  {
   "cell_type": "code",
   "execution_count": 19,
   "id": "df1f9430",
   "metadata": {},
   "outputs": [
    {
     "data": {
      "text/html": [
       "<div>\n",
       "<style scoped>\n",
       "    .dataframe tbody tr th:only-of-type {\n",
       "        vertical-align: middle;\n",
       "    }\n",
       "\n",
       "    .dataframe tbody tr th {\n",
       "        vertical-align: top;\n",
       "    }\n",
       "\n",
       "    .dataframe thead th {\n",
       "        text-align: right;\n",
       "    }\n",
       "</style>\n",
       "<table border=\"1\" class=\"dataframe\">\n",
       "  <thead>\n",
       "    <tr style=\"text-align: right;\">\n",
       "      <th></th>\n",
       "      <th>loss</th>\n",
       "      <th>accuracy</th>\n",
       "      <th>val_loss</th>\n",
       "      <th>val_accuracy</th>\n",
       "    </tr>\n",
       "  </thead>\n",
       "  <tbody>\n",
       "    <tr>\n",
       "      <th>0</th>\n",
       "      <td>2.168207</td>\n",
       "      <td>0.160017</td>\n",
       "      <td>1.785844</td>\n",
       "      <td>0.2101</td>\n",
       "    </tr>\n",
       "    <tr>\n",
       "      <th>1</th>\n",
       "      <td>1.705738</td>\n",
       "      <td>0.253517</td>\n",
       "      <td>1.648699</td>\n",
       "      <td>0.2945</td>\n",
       "    </tr>\n",
       "    <tr>\n",
       "      <th>2</th>\n",
       "      <td>1.634971</td>\n",
       "      <td>0.281133</td>\n",
       "      <td>1.619076</td>\n",
       "      <td>0.2767</td>\n",
       "    </tr>\n",
       "    <tr>\n",
       "      <th>3</th>\n",
       "      <td>1.612041</td>\n",
       "      <td>0.286567</td>\n",
       "      <td>1.613583</td>\n",
       "      <td>0.2976</td>\n",
       "    </tr>\n",
       "    <tr>\n",
       "      <th>4</th>\n",
       "      <td>1.597612</td>\n",
       "      <td>0.297250</td>\n",
       "      <td>1.598131</td>\n",
       "      <td>0.2851</td>\n",
       "    </tr>\n",
       "    <tr>\n",
       "      <th>5</th>\n",
       "      <td>1.590296</td>\n",
       "      <td>0.302533</td>\n",
       "      <td>1.568507</td>\n",
       "      <td>0.3137</td>\n",
       "    </tr>\n",
       "    <tr>\n",
       "      <th>6</th>\n",
       "      <td>1.577274</td>\n",
       "      <td>0.320200</td>\n",
       "      <td>1.567135</td>\n",
       "      <td>0.3222</td>\n",
       "    </tr>\n",
       "    <tr>\n",
       "      <th>7</th>\n",
       "      <td>1.574495</td>\n",
       "      <td>0.320633</td>\n",
       "      <td>1.569524</td>\n",
       "      <td>0.3358</td>\n",
       "    </tr>\n",
       "    <tr>\n",
       "      <th>8</th>\n",
       "      <td>1.579787</td>\n",
       "      <td>0.318150</td>\n",
       "      <td>1.562359</td>\n",
       "      <td>0.3274</td>\n",
       "    </tr>\n",
       "    <tr>\n",
       "      <th>9</th>\n",
       "      <td>1.564911</td>\n",
       "      <td>0.324200</td>\n",
       "      <td>1.552138</td>\n",
       "      <td>0.3369</td>\n",
       "    </tr>\n",
       "  </tbody>\n",
       "</table>\n",
       "</div>"
      ],
      "text/plain": [
       "       loss  accuracy  val_loss  val_accuracy\n",
       "0  2.168207  0.160017  1.785844        0.2101\n",
       "1  1.705738  0.253517  1.648699        0.2945\n",
       "2  1.634971  0.281133  1.619076        0.2767\n",
       "3  1.612041  0.286567  1.613583        0.2976\n",
       "4  1.597612  0.297250  1.598131        0.2851\n",
       "5  1.590296  0.302533  1.568507        0.3137\n",
       "6  1.577274  0.320200  1.567135        0.3222\n",
       "7  1.574495  0.320633  1.569524        0.3358\n",
       "8  1.579787  0.318150  1.562359        0.3274\n",
       "9  1.564911  0.324200  1.552138        0.3369"
      ]
     },
     "execution_count": 19,
     "metadata": {},
     "output_type": "execute_result"
    }
   ],
   "source": [
    "import pandas as pd\n",
    "a=pd.DataFrame(non_norm_history.history)\n",
    "a"
   ]
  },
  {
   "cell_type": "code",
   "execution_count": 20,
   "id": "3db91e13",
   "metadata": {},
   "outputs": [
    {
     "data": {
      "text/plain": [
       "<AxesSubplot:title={'center':'Normalized data'}>"
      ]
     },
     "execution_count": 20,
     "metadata": {},
     "output_type": "execute_result"
    },
    {
     "data": {
      "image/png": "[encoded data removed]",
      "text/plain": [
       "<Figure size 432x288 with 1 Axes>"
      ]
     },
     "metadata": {
      "needs_background": "light"
     },
     "output_type": "display_data"
    },
    {
     "data": {
      "image/png": "[encoded data removed]",
      "text/plain": [
       "<Figure size 432x288 with 1 Axes>"
      ]
     },
     "metadata": {
      "needs_background": "light"
     },
     "output_type": "display_data"
    }
   ],
   "source": [
    "import pandas as pd\n",
    "\n",
    "# Plot the non-normalized data loss curves\n",
    "pd.DataFrame(non_norm_history.history).plot(title=\"Non-normalized data\")\n",
    "\n",
    "# Plot the normalized data loss curves\n",
    "pd.DataFrame(norm_history.history).plot(title=\"Normalized data\")"
   ]
  },
  {
   "cell_type": "markdown",
   "id": "c0e8f45f",
   "metadata": {},
   "source": [
    "## Note -:\n",
    "The same model with even slightly different data can produce dramatically different results. So when you're comparing models, it's important to make sure you're comparing them on the same critera (e.g same architecture but different data or same data but different architecture)"
   ]
  },
  {
   "cell_type": "markdown",
   "id": "0126a51a",
   "metadata": {},
   "source": [
    "## Finding the ideal learning rate"
   ]
  },
  {
   "cell_type": "code",
   "execution_count": 21,
   "id": "ca2a1899",
   "metadata": {},
   "outputs": [
    {
     "name": "stdout",
     "output_type": "stream",
     "text": [
      "Epoch 1/40\n",
      "1875/1875 [==============================] - 3s 2ms/step - loss: 1.0348 - accuracy: 0.6474 - val_loss: 0.6937 - val_accuracy: 0.7617 - lr: 0.0010\n",
      "Epoch 2/40\n",
      "1875/1875 [==============================] - 3s 2ms/step - loss: 0.6366 - accuracy: 0.7759 - val_loss: 0.6400 - val_accuracy: 0.7808 - lr: 0.0011\n",
      "Epoch 3/40\n",
      "1875/1875 [==============================] - 3s 2ms/step - loss: 0.5934 - accuracy: 0.7911 - val_loss: 0.6278 - val_accuracy: 0.7770 - lr: 0.0013\n",
      "Epoch 4/40\n",
      "1875/1875 [==============================] - 3s 2ms/step - loss: 0.5749 - accuracy: 0.7969 - val_loss: 0.6122 - val_accuracy: 0.7871 - lr: 0.0014\n",
      "Epoch 5/40\n",
      "1875/1875 [==============================] - 3s 2ms/step - loss: 0.5655 - accuracy: 0.7987 - val_loss: 0.6061 - val_accuracy: 0.7913 - lr: 0.0016\n",
      "Epoch 6/40\n",
      "1875/1875 [==============================] - 3s 2ms/step - loss: 0.5569 - accuracy: 0.8022 - val_loss: 0.5917 - val_accuracy: 0.7940 - lr: 0.0018\n",
      "Epoch 7/40\n",
      "1875/1875 [==============================] - 3s 2ms/step - loss: 0.5542 - accuracy: 0.8036 - val_loss: 0.5898 - val_accuracy: 0.7896 - lr: 0.0020\n",
      "Epoch 8/40\n",
      "1875/1875 [==============================] - 3s 2ms/step - loss: 0.5509 - accuracy: 0.8039 - val_loss: 0.5829 - val_accuracy: 0.7949 - lr: 0.0022\n",
      "Epoch 9/40\n",
      "1875/1875 [==============================] - 3s 2ms/step - loss: 0.5468 - accuracy: 0.8047 - val_loss: 0.6036 - val_accuracy: 0.7833 - lr: 0.0025\n",
      "Epoch 10/40\n",
      "1875/1875 [==============================] - 3s 2ms/step - loss: 0.5478 - accuracy: 0.8058 - val_loss: 0.5736 - val_accuracy: 0.7974 - lr: 0.0028\n",
      "Epoch 11/40\n",
      "1875/1875 [==============================] - 3s 2ms/step - loss: 0.5446 - accuracy: 0.8059 - val_loss: 0.5672 - val_accuracy: 0.8016 - lr: 0.0032\n",
      "Epoch 12/40\n",
      "1875/1875 [==============================] - 3s 2ms/step - loss: 0.5432 - accuracy: 0.8067 - val_loss: 0.5773 - val_accuracy: 0.7950 - lr: 0.0035\n",
      "Epoch 13/40\n",
      "1875/1875 [==============================] - 3s 2ms/step - loss: 0.5425 - accuracy: 0.8056 - val_loss: 0.5775 - val_accuracy: 0.7992 - lr: 0.0040\n",
      "Epoch 14/40\n",
      "1875/1875 [==============================] - 3s 2ms/step - loss: 0.5407 - accuracy: 0.8078 - val_loss: 0.5616 - val_accuracy: 0.8075 - lr: 0.0045\n",
      "Epoch 15/40\n",
      "1875/1875 [==============================] - 3s 2ms/step - loss: 0.5408 - accuracy: 0.8052 - val_loss: 0.5773 - val_accuracy: 0.8039 - lr: 0.0050\n",
      "Epoch 16/40\n",
      "1875/1875 [==============================] - 3s 2ms/step - loss: 0.5437 - accuracy: 0.8058 - val_loss: 0.5682 - val_accuracy: 0.8015 - lr: 0.0056\n",
      "Epoch 17/40\n",
      "1875/1875 [==============================] - 3s 2ms/step - loss: 0.5419 - accuracy: 0.8075 - val_loss: 0.5995 - val_accuracy: 0.7964 - lr: 0.0063\n",
      "Epoch 18/40\n",
      "1875/1875 [==============================] - 3s 2ms/step - loss: 0.5488 - accuracy: 0.8058 - val_loss: 0.5544 - val_accuracy: 0.8087 - lr: 0.0071\n",
      "Epoch 19/40\n",
      "1875/1875 [==============================] - 3s 2ms/step - loss: 0.5506 - accuracy: 0.8042 - val_loss: 0.6068 - val_accuracy: 0.7864 - lr: 0.0079\n",
      "Epoch 20/40\n",
      "1875/1875 [==============================] - 3s 2ms/step - loss: 0.5537 - accuracy: 0.8030 - val_loss: 0.5597 - val_accuracy: 0.8076 - lr: 0.0089\n",
      "Epoch 21/40\n",
      "1875/1875 [==============================] - 3s 2ms/step - loss: 0.5572 - accuracy: 0.8036 - val_loss: 0.5998 - val_accuracy: 0.7934 - lr: 0.0100\n",
      "Epoch 22/40\n",
      "1875/1875 [==============================] - 3s 2ms/step - loss: 0.5615 - accuracy: 0.8013 - val_loss: 0.5756 - val_accuracy: 0.8034 - lr: 0.0112\n",
      "Epoch 23/40\n",
      "1875/1875 [==============================] - 3s 2ms/step - loss: 0.5655 - accuracy: 0.8017 - val_loss: 0.6386 - val_accuracy: 0.7668 - lr: 0.0126\n",
      "Epoch 24/40\n",
      "1875/1875 [==============================] - 3s 2ms/step - loss: 0.5823 - accuracy: 0.7959 - val_loss: 0.6225 - val_accuracy: 0.7924 - lr: 0.0141\n",
      "Epoch 25/40\n",
      "1875/1875 [==============================] - 3s 2ms/step - loss: 0.5841 - accuracy: 0.7969 - val_loss: 0.6393 - val_accuracy: 0.7891 - lr: 0.0158\n",
      "Epoch 26/40\n",
      "1875/1875 [==============================] - 3s 2ms/step - loss: 0.5969 - accuracy: 0.7913 - val_loss: 0.7217 - val_accuracy: 0.7746 - lr: 0.0178\n",
      "Epoch 27/40\n",
      "1875/1875 [==============================] - 3s 2ms/step - loss: 0.6129 - accuracy: 0.7855 - val_loss: 0.6282 - val_accuracy: 0.7850 - lr: 0.0200\n",
      "Epoch 28/40\n",
      "1875/1875 [==============================] - 3s 2ms/step - loss: 0.6183 - accuracy: 0.7824 - val_loss: 0.6329 - val_accuracy: 0.7876 - lr: 0.0224\n",
      "Epoch 29/40\n",
      "1875/1875 [==============================] - 3s 2ms/step - loss: 0.6378 - accuracy: 0.7777 - val_loss: 0.6405 - val_accuracy: 0.7770 - lr: 0.0251\n",
      "Epoch 30/40\n",
      "1875/1875 [==============================] - 3s 2ms/step - loss: 0.6723 - accuracy: 0.7657 - val_loss: 0.7102 - val_accuracy: 0.7377 - lr: 0.0282\n",
      "Epoch 31/40\n",
      "1875/1875 [==============================] - 3s 2ms/step - loss: 0.6826 - accuracy: 0.7612 - val_loss: 0.7309 - val_accuracy: 0.7515 - lr: 0.0316\n",
      "Epoch 32/40\n",
      "1875/1875 [==============================] - 3s 2ms/step - loss: 0.6969 - accuracy: 0.7594 - val_loss: 0.6607 - val_accuracy: 0.7833 - lr: 0.0355\n",
      "Epoch 33/40\n",
      "1875/1875 [==============================] - 3s 2ms/step - loss: 0.7415 - accuracy: 0.7477 - val_loss: 0.8567 - val_accuracy: 0.7658 - lr: 0.0398\n",
      "Epoch 34/40\n",
      "1875/1875 [==============================] - 3s 2ms/step - loss: 0.8052 - accuracy: 0.7278 - val_loss: 0.7309 - val_accuracy: 0.7478 - lr: 0.0447\n",
      "Epoch 35/40\n",
      "1875/1875 [==============================] - 3s 2ms/step - loss: 0.8312 - accuracy: 0.7150 - val_loss: 0.8128 - val_accuracy: 0.7510 - lr: 0.0501\n",
      "Epoch 36/40\n",
      "1875/1875 [==============================] - 3s 2ms/step - loss: 0.9071 - accuracy: 0.6828 - val_loss: 1.0783 - val_accuracy: 0.6261 - lr: 0.0562\n",
      "Epoch 37/40\n",
      "1875/1875 [==============================] - 3s 2ms/step - loss: 1.6508 - accuracy: 0.2980 - val_loss: 1.9376 - val_accuracy: 0.1832 - lr: 0.0631\n",
      "Epoch 38/40\n",
      "1875/1875 [==============================] - 3s 2ms/step - loss: 1.8698 - accuracy: 0.1934 - val_loss: 1.8136 - val_accuracy: 0.1935 - lr: 0.0708\n",
      "Epoch 39/40\n",
      "1875/1875 [==============================] - 3s 2ms/step - loss: 1.9380 - accuracy: 0.1926 - val_loss: 1.7475 - val_accuracy: 0.1944 - lr: 0.0794\n",
      "Epoch 40/40\n",
      "1875/1875 [==============================] - 3s 2ms/step - loss: 1.7645 - accuracy: 0.1997 - val_loss: 1.7539 - val_accuracy: 0.2000 - lr: 0.0891\n"
     ]
    }
   ],
   "source": [
    "tf.random.set_seed(42)\n",
    "\n",
    "# Create the model\n",
    "model_3 = tf.keras.Sequential([\n",
    "    tf.keras.layers.Flatten(input_shape=(28, 28)),\n",
    "    tf.keras.layers.Dense(4, activation=\"relu\"),\n",
    "    tf.keras.layers.Dense(4, activation=\"relu\"),\n",
    "    tf.keras.layers.Dense(10, activation=\"softmax\")\n",
    "])\n",
    "\n",
    "# Compile the model\n",
    "model_3.compile(loss=tf.keras.losses.SparseCategoricalCrossentropy(),\n",
    "                optimizer=tf.keras.optimizers.Adam(),\n",
    "                metrics=[\"accuracy\"])\n",
    "\n",
    "# Create the learning rate callback\n",
    "lr_scheduler = tf.keras.callbacks.LearningRateScheduler(lambda epoch: 1e-3 * 10**(epoch/20))\n",
    "\n",
    "# Fit the model\n",
    "find_lr_history = model_3.fit(train_data_norm,\n",
    "                             train_labels,\n",
    "                             epochs=40,\n",
    "                             validation_data=(test_data_norm, test_labels),\n",
    "                             callbacks = lr_scheduler\n",
    "                             )"
   ]
  },
  {
   "cell_type": "code",
   "execution_count": 22,
   "id": "1dfc50bf",
   "metadata": {},
   "outputs": [
    {
     "data": {
      "text/plain": [
       "<AxesSubplot:title={'center':'Using scheduler callback'}>"
      ]
     },
     "execution_count": 22,
     "metadata": {},
     "output_type": "execute_result"
    },
    {
     "data": {
      "image/png": "[encoded data removed]",
      "text/plain": [
       "<Figure size 432x288 with 1 Axes>"
      ]
     },
     "metadata": {
      "needs_background": "light"
     },
     "output_type": "display_data"
    }
   ],
   "source": [
    "pd.DataFrame(find_lr_history.history).plot(title=\"Using scheduler callback\")"
   ]
  },
  {
   "cell_type": "markdown",
   "id": "bee7c215",
   "metadata": {},
   "source": [
    "### Plot the learning rate decay value"
   ]
  },
  {
   "cell_type": "code",
   "execution_count": 23,
   "id": "4ce462bd",
   "metadata": {},
   "outputs": [
    {
     "data": {
      "text/plain": [
       "Text(0.5, 1.0, 'Finding the ideal learning rate')"
      ]
     },
     "execution_count": 23,
     "metadata": {},
     "output_type": "execute_result"
    },
    {
     "data": {
      "image/png": "[encoded data removed]",
      "text/plain": [
       "<Figure size 432x288 with 1 Axes>"
      ]
     },
     "metadata": {
      "needs_background": "light"
     },
     "output_type": "display_data"
    }
   ],
   "source": [
    "import numpy as np\n",
    "import matplotlib.pyplot as plt\n",
    "\n",
    "lrs = 1e-3 * (10**(tf.range(40)/20))\n",
    "plt.semilogx(lrs, find_lr_history.history[\"loss\"]); # Make a plot with log scaling on the x axis.\n",
    "plt.xlabel(\"Learning rate\")\n",
    "plt.ylabel(\"Loss\")\n",
    "plt.title(\"Finding the ideal learning rate\")"
   ]
  },
  {
   "cell_type": "markdown",
   "id": "0c23dbba",
   "metadata": {},
   "source": [
    "Here we can see our good lr is where we have lowest loss i.e here it is 10**-3"
   ]
  },
  {
   "cell_type": "code",
   "execution_count": 24,
   "id": "29f66743",
   "metadata": {},
   "outputs": [
    {
     "name": "stderr",
     "output_type": "stream",
     "text": [
      "C:\\Users\\Amit\\Desktop\\sample\\anaconda3\\lib\\site-packages\\keras\\optimizers\\optimizer_v2\\adam.py:110: UserWarning: The `lr` argument is deprecated, use `learning_rate` instead.\n",
      "  super(Adam, self).__init__(name, **kwargs)\n"
     ]
    },
    {
     "name": "stdout",
     "output_type": "stream",
     "text": [
      "Epoch 1/20\n",
      "1875/1875 [==============================] - 3s 1ms/step - loss: 1.0348 - accuracy: 0.6474 - val_loss: 0.6937 - val_accuracy: 0.7617\n",
      "Epoch 2/20\n",
      "1875/1875 [==============================] - 3s 2ms/step - loss: 0.6376 - accuracy: 0.7757 - val_loss: 0.6400 - val_accuracy: 0.7820\n",
      "Epoch 3/20\n",
      "1875/1875 [==============================] - 3s 2ms/step - loss: 0.5942 - accuracy: 0.7914 - val_loss: 0.6247 - val_accuracy: 0.7783\n",
      "Epoch 4/20\n",
      "1875/1875 [==============================] - 3s 2ms/step - loss: 0.5750 - accuracy: 0.7979 - val_loss: 0.6078 - val_accuracy: 0.7881\n",
      "Epoch 5/20\n",
      "1875/1875 [==============================] - 3s 2ms/step - loss: 0.5641 - accuracy: 0.8006 - val_loss: 0.6169 - val_accuracy: 0.7881\n",
      "Epoch 6/20\n",
      "1875/1875 [==============================] - 3s 2ms/step - loss: 0.5544 - accuracy: 0.8043 - val_loss: 0.5855 - val_accuracy: 0.7951\n",
      "Epoch 7/20\n",
      "1875/1875 [==============================] - 3s 2ms/step - loss: 0.5488 - accuracy: 0.8063 - val_loss: 0.6097 - val_accuracy: 0.7836\n",
      "Epoch 8/20\n",
      "1875/1875 [==============================] - 3s 2ms/step - loss: 0.5428 - accuracy: 0.8077 - val_loss: 0.5787 - val_accuracy: 0.7971\n",
      "Epoch 9/20\n",
      "1875/1875 [==============================] - 3s 2ms/step - loss: 0.5373 - accuracy: 0.8097 - val_loss: 0.5698 - val_accuracy: 0.7977\n",
      "Epoch 10/20\n",
      "1875/1875 [==============================] - 3s 2ms/step - loss: 0.5360 - accuracy: 0.8124 - val_loss: 0.5658 - val_accuracy: 0.8014\n",
      "Epoch 11/20\n",
      "1875/1875 [==============================] - 3s 2ms/step - loss: 0.5311 - accuracy: 0.8130 - val_loss: 0.5714 - val_accuracy: 0.8002\n",
      "Epoch 12/20\n",
      "1875/1875 [==============================] - 3s 2ms/step - loss: 0.5284 - accuracy: 0.8132 - val_loss: 0.5626 - val_accuracy: 0.8027\n",
      "Epoch 13/20\n",
      "1875/1875 [==============================] - 3s 2ms/step - loss: 0.5271 - accuracy: 0.8138 - val_loss: 0.5619 - val_accuracy: 0.8041\n",
      "Epoch 14/20\n",
      "1875/1875 [==============================] - 3s 2ms/step - loss: 0.5249 - accuracy: 0.8143 - val_loss: 0.5718 - val_accuracy: 0.7991\n",
      "Epoch 15/20\n",
      "1875/1875 [==============================] - 3s 2ms/step - loss: 0.5231 - accuracy: 0.8148 - val_loss: 0.5706 - val_accuracy: 0.8024\n",
      "Epoch 16/20\n",
      "1875/1875 [==============================] - 3s 2ms/step - loss: 0.5203 - accuracy: 0.8162 - val_loss: 0.5731 - val_accuracy: 0.8023\n",
      "Epoch 17/20\n",
      "1875/1875 [==============================] - 3s 2ms/step - loss: 0.5191 - accuracy: 0.8176 - val_loss: 0.5594 - val_accuracy: 0.8030\n",
      "Epoch 18/20\n",
      "1875/1875 [==============================] - 3s 2ms/step - loss: 0.5176 - accuracy: 0.8157 - val_loss: 0.5582 - val_accuracy: 0.8053\n",
      "Epoch 19/20\n",
      "1875/1875 [==============================] - 3s 2ms/step - loss: 0.5156 - accuracy: 0.8169 - val_loss: 0.5644 - val_accuracy: 0.8007\n",
      "Epoch 20/20\n",
      "1875/1875 [==============================] - 3s 2ms/step - loss: 0.5146 - accuracy: 0.8177 - val_loss: 0.5660 - val_accuracy: 0.8075\n"
     ]
    }
   ],
   "source": [
    "# Lets fill the best learning rate\n",
    "tf.random.set_seed(42)\n",
    "\n",
    "# Create the model\n",
    "model_3 = tf.keras.Sequential([\n",
    "    tf.keras.layers.Flatten(input_shape=(28, 28)),\n",
    "    tf.keras.layers.Dense(4, activation=\"relu\"),\n",
    "    tf.keras.layers.Dense(4, activation=\"relu\"),\n",
    "    tf.keras.layers.Dense(10, activation=\"softmax\")\n",
    "])\n",
    "\n",
    "# Compile the model\n",
    "model_3.compile(loss=tf.keras.losses.SparseCategoricalCrossentropy(),\n",
    "                optimizer=tf.keras.optimizers.Adam(lr=0.001),\n",
    "                metrics=[\"accuracy\"])\n",
    "\n",
    "\n",
    "\n",
    "# Fit the model\n",
    "lr_history = model_3.fit(train_data_norm,\n",
    "                             train_labels,\n",
    "                             epochs=20,\n",
    "                             validation_data=(test_data_norm, test_labels),\n",
    "                             \n",
    "                             )"
   ]
  },
  {
   "cell_type": "code",
   "execution_count": 25,
   "id": "d02e33f7",
   "metadata": {},
   "outputs": [
    {
     "data": {
      "text/plain": [
       "<AxesSubplot:title={'center':'with applying best learning rate'}>"
      ]
     },
     "execution_count": 25,
     "metadata": {},
     "output_type": "execute_result"
    },
    {
     "data": {
      "image/png": "[encoded data removed]",
      "text/plain": [
       "<Figure size 432x288 with 1 Axes>"
      ]
     },
     "metadata": {
      "needs_background": "light"
     },
     "output_type": "display_data"
    }
   ],
   "source": [
    "pd.DataFrame(lr_history.history).plot(title=\"with applying best learning rate\")"
   ]
  },
  {
   "cell_type": "markdown",
   "id": "01393121",
   "metadata": {},
   "source": [
    "### Evaluating our multi-class classification model\n",
    "\n",
    "To evaluate our multi-class classification model we could:\n",
    "    * Evaluate its performance using other classification metrics (such as a confusion matrix)\n",
    "    \n",
    "    * Asses some of its predictions (through visualizations)\n",
    "    \n",
    "    * Improve its results (by training it for longer or changing the archictecture)\n",
    "    \n",
    "    * Save and export it for use in an application\n",
    "    \n",
    "Let's go through top 2....."
   ]
  },
  {
   "cell_type": "code",
   "execution_count": 26,
   "id": "da59b9bc",
   "metadata": {},
   "outputs": [],
   "source": [
    "# Note : the confusion matrix code we're about to write is remix of scikit-learn's plot_confusion_matrix #92\n",
    "\n",
    "import itertools\n",
    "from sklearn.metrics import confusion_matrix\n",
    "\n",
    "def make_confusion_matrix(y_true,y_pred,classes=None,figsize=(10,10),text_size=15):\n",
    "\n",
    "    # Create the confusion matrix\n",
    "    cm = confusion_matrix(y_true,tf.math.round(y_pred))\n",
    "    cm_norm = cm.astype(\"float\") / cm.sum(axis=1)[:,np.newaxis] # normalize our confusion matrix\n",
    "    n_classes = cm.shape[0]\n",
    "    \n",
    "\n",
    "    # Lets prettify it\n",
    "    fig, ax = plt.subplots(figsize=figsize)\n",
    "    # Create a matrix plot\n",
    "    cax = ax.matshow(cm , cmap=plt.cm.Blues) # here cmp cm is colour matrix\n",
    "    fig.colorbar(cax)\n",
    "\n",
    "    # Set labels to be classes\n",
    "    if classes:\n",
    "        labels = classes\n",
    "    else:\n",
    "        labels = np.arange(cm.shape[0])\n",
    "\n",
    "    # Label the axes\n",
    "    ax.set(title = \"Confusion Matrix\",\n",
    "           xlabel= \"Predicted Label\",\n",
    "           ylabel= \"True Label\",\n",
    "           xticks= np.arange(n_classes),\n",
    "           yticks= np.arange(n_classes),\n",
    "           xticklabels=labels,\n",
    "           yticklabels=labels)\n",
    "\n",
    "    # Set the x-axis labels to bottom\n",
    "    ax.xaxis.set_label_position(\"bottom\")\n",
    "    ax.xaxis.tick_bottom()\n",
    "\n",
    "    # Adjust the label size\n",
    "    ax.yaxis.label.set_size(text_size)\n",
    "    ax.xaxis.label.set_size(text_size)\n",
    "    ax.title.set_size(text_size)\n",
    "\n",
    "    # Set the threshold for different color\n",
    "    threshold = (cm.max() + cm.min()) / 2.\n",
    "\n",
    "    # PLot the text on each cell\n",
    "    for i, j in itertools.product(range(cm.shape[0]),range(cm.shape[1])):\n",
    "        plt.text(j,i,f\"{cm[i, j]} ({cm_norm[i, j]*100:.1f}%)\",\n",
    "                horizontalalignment=\"center\",\n",
    "                color=\"white\" if cm[i, j]> threshold else \"black\",\n",
    "                size=text_size)\n"
   ]
  },
  {
   "cell_type": "code",
   "execution_count": 27,
   "id": "014e79be",
   "metadata": {},
   "outputs": [
    {
     "data": {
      "text/plain": [
       "['T-shirt/top',\n",
       " 'Trouser',\n",
       " 'Pullover',\n",
       " 'Dress',\n",
       " 'Coat',\n",
       " 'Scandal',\n",
       " 'Shirt',\n",
       " 'Sneaker',\n",
       " 'Bag',\n",
       " 'Ankle Boot']"
      ]
     },
     "execution_count": 27,
     "metadata": {},
     "output_type": "execute_result"
    }
   ],
   "source": [
    "class_names"
   ]
  },
  {
   "cell_type": "markdown",
   "id": "8fe50e0b",
   "metadata": {},
   "source": [
    "## Make some prediction with our models\n",
    "\n",
    "🔑 Remember to make prediction on the same kind of data your model was trained on (e.g if your model was trained on normalized data, you'll want to make predictions on normalized data )"
   ]
  },
  {
   "cell_type": "code",
   "execution_count": 28,
   "id": "a57522ab",
   "metadata": {},
   "outputs": [
    {
     "name": "stdout",
     "output_type": "stream",
     "text": [
      "313/313 [==============================] - 0s 1ms/step\n"
     ]
    },
    {
     "data": {
      "text/plain": [
       "array([[8.5630149e-11, 3.5362037e-13, 2.6633807e-05, 4.6356206e-08,\n",
       "        5.0949708e-05, 9.6119240e-02, 8.1778047e-08, 9.1868855e-02,\n",
       "        4.0605320e-03, 8.0787367e-01],\n",
       "       [3.4278621e-06, 1.2899364e-16, 9.5989150e-01, 2.0516296e-07,\n",
       "        1.5329202e-02, 2.4532527e-13, 2.4142891e-02, 1.1383795e-28,\n",
       "        6.3272048e-04, 4.4789726e-08],\n",
       "       [6.1062834e-05, 9.9657685e-01, 4.3867235e-08, 3.3405807e-03,\n",
       "        1.3249601e-05, 1.4383547e-21, 8.2790775e-06, 7.3238315e-18,\n",
       "        5.4811505e-08, 4.9225811e-14],\n",
       "       [7.5031443e-05, 9.9053699e-01, 4.2529024e-07, 9.2231566e-03,\n",
       "        1.3623299e-04, 1.8276651e-18, 2.6808451e-05, 4.8124838e-14,\n",
       "        1.4521551e-06, 2.2211717e-11],\n",
       "       [7.2189935e-02, 1.5495737e-06, 2.5566912e-01, 1.0363134e-02,\n",
       "        4.3541323e-02, 1.1069491e-13, 6.1693013e-01, 6.7544663e-23,\n",
       "        1.3049198e-03, 1.2140428e-09]], dtype=float32)"
      ]
     },
     "execution_count": 28,
     "metadata": {},
     "output_type": "execute_result"
    }
   ],
   "source": [
    "y_probs = model_3.predict(test_data_norm) # probs is short for \"prediction probabilities\"\n",
    "y_probs[:5]"
   ]
  },
  {
   "cell_type": "markdown",
   "id": "46482b43",
   "metadata": {},
   "source": [
    " As you can see all the value about will be in between 0 and 1 (e-11 means nearly .00000 11times 8)\n",
    "    \n",
    " so to get the values we can or get the integer value we gonna use `argmax`"
   ]
  },
  {
   "cell_type": "code",
   "execution_count": 29,
   "id": "f9bf80c2",
   "metadata": {},
   "outputs": [
    {
     "data": {
      "text/plain": [
       "(array([8.5630149e-11, 3.5362037e-13, 2.6633807e-05, 4.6356206e-08,\n",
       "        5.0949708e-05, 9.6119240e-02, 8.1778047e-08, 9.1868855e-02,\n",
       "        4.0605320e-03, 8.0787367e-01], dtype=float32),\n",
       " <tf.Tensor: shape=(), dtype=int64, numpy=9>,\n",
       " 'Ankle Boot')"
      ]
     },
     "execution_count": 29,
     "metadata": {},
     "output_type": "execute_result"
    }
   ],
   "source": [
    "y_probs[0], tf.argmax(y_probs[0]), class_names[tf.argmax(y_probs[0])] # here it searching class_names->y_probs->given index ->argmax round it up"
   ]
  },
  {
   "cell_type": "code",
   "execution_count": 30,
   "id": "3a018ef1",
   "metadata": {},
   "outputs": [
    {
     "data": {
      "text/plain": [
       "array([9, 2, 1, 1, 6, 1, 4, 6, 5, 7], dtype=int64)"
      ]
     },
     "execution_count": 30,
     "metadata": {},
     "output_type": "execute_result"
    }
   ],
   "source": [
    "# Convert all of the prediction probabilities to all the integer\n",
    "y_preds = y_probs.argmax(axis=1) # First axis\n",
    "y_preds[:10]"
   ]
  },
  {
   "cell_type": "code",
   "execution_count": 31,
   "id": "221cb3a4",
   "metadata": {},
   "outputs": [
    {
     "data": {
      "text/plain": [
       "array([ True,  True,  True,  True,  True,  True,  True,  True,  True,\n",
       "        True])"
      ]
     },
     "execution_count": 31,
     "metadata": {},
     "output_type": "execute_result"
    }
   ],
   "source": [
    "# compare test_labels and y_preds\n",
    "test_labels[:10] == y_preds[:10]"
   ]
  },
  {
   "cell_type": "code",
   "execution_count": 32,
   "id": "d2b25598",
   "metadata": {},
   "outputs": [
    {
     "data": {
      "text/plain": [
       "array([[696,   8,  25,  87,   9,   5, 160,   0,  10,   0],\n",
       "       [  2, 939,   2,  35,   9,   0,  13,   0,   0,   0],\n",
       "       [ 19,   2, 656,  10, 188,   0, 110,   0,  15,   0],\n",
       "       [ 39,  10,  10, 819,  55,   0,  47,   1,  19,   0],\n",
       "       [  0,   0,  95,  23, 800,   0,  73,   0,   7,   2],\n",
       "       [  0,   0,   1,   0,   0, 894,   0,  60,   7,  38],\n",
       "       [106,   4, 158,  57, 159,   1, 499,   0,  16,   0],\n",
       "       [  0,   0,   0,   0,   0,  31,   0, 936,   0,  33],\n",
       "       [  4,   1,  38,  15,   8,  12,   9,   5, 906,   2],\n",
       "       [  0,   0,   1,   0,   2,  15,   0,  51,   1, 930]], dtype=int64)"
      ]
     },
     "execution_count": 32,
     "metadata": {},
     "output_type": "execute_result"
    }
   ],
   "source": [
    "### in confusion matrix diagonal value always gives the largest value\n",
    "from sklearn.metrics import confusion_matrix\n",
    "confusion_matrix(y_true=test_labels,\n",
    "                 y_pred=y_preds)\n"
   ]
  },
  {
   "cell_type": "code",
   "execution_count": 33,
   "id": "c9c7e0df",
   "metadata": {},
   "outputs": [
    {
     "data": {
      "image/png": "[encoded data removed]",
      "text/plain": [
       "<Figure size 1080x1080 with 2 Axes>"
      ]
     },
     "metadata": {
      "needs_background": "light"
     },
     "output_type": "display_data"
    }
   ],
   "source": [
    "# Make a pretty confusion matrixx\n",
    "make_confusion_matrix(y_true=test_labels,\n",
    "                      y_pred=y_preds,\n",
    "                      classes=class_names,\n",
    "                      figsize=(15,15),\n",
    "                      text_size=10)"
   ]
  },
  {
   "cell_type": "markdown",
   "id": "fc09fa1b",
   "metadata": {},
   "source": [
    "🔑 **Note** - Often when working with images and other forms of visual data, it's good idea to visualize as much as possible to develop a further understanding of the data and inputs and outputs of your models\n",
    "\n",
    "#### How about we create a little function for:\n",
    "\n",
    "* Plot a random image\n",
    "* make prediction on said image\n",
    "* Label the plot with the truth label and the predicted label"
   ]
  },
  {
   "cell_type": "code",
   "execution_count": 34,
   "id": "f09e49fb",
   "metadata": {},
   "outputs": [
    {
     "data": {
      "text/plain": [
       "('Ankle Boot', 'Ankle Boot')"
      ]
     },
     "execution_count": 34,
     "metadata": {},
     "output_type": "execute_result"
    },
    {
     "data": {
      "image/png": "[encoded data removed]",
      "text/plain": [
       "<Figure size 432x288 with 1 Axes>"
      ]
     },
     "metadata": {
      "needs_background": "light"
     },
     "output_type": "display_data"
    }
   ],
   "source": [
    "# Rough approach code by myself only\n",
    "plt.imshow(test_data[0])\n",
    "a=class_names[y_preds[0]]\n",
    "b=class_names[test_labels[0]]\n",
    "a,b"
   ]
  },
  {
   "cell_type": "code",
   "execution_count": 35,
   "id": "022ce852",
   "metadata": {},
   "outputs": [],
   "source": [
    "import matplotlib.pyplot as plt\n",
    "def image_show(n):\n",
    "    plt.imshow(test_data[n])\n",
    "    print(\"Predicted label - \",class_names[y_preds[n]])\n",
    "    plt.imshow(test_data[n])\n",
    "    print(\"Truth label - \",class_names[test_labels[n]])\n",
    "    "
   ]
  },
  {
   "cell_type": "code",
   "execution_count": 36,
   "id": "efa11e5e",
   "metadata": {},
   "outputs": [
    {
     "name": "stdout",
     "output_type": "stream",
     "text": [
      "Predicted label -  Trouser\n",
      "Truth label -  Trouser\n"
     ]
    },
    {
     "data": {
      "image/png": "[encoded data removed]",
      "text/plain": [
       "<Figure size 432x288 with 1 Axes>"
      ]
     },
     "metadata": {
      "needs_background": "light"
     },
     "output_type": "display_data"
    }
   ],
   "source": [
    "image_show(2)"
   ]
  },
  {
   "cell_type": "code",
   "execution_count": 58,
   "id": "e334152c",
   "metadata": {},
   "outputs": [],
   "source": [
    "## make the funcion\n",
    "import random\n",
    "\n",
    "def plot_random_image(model, images, true_labels, classes):\n",
    "    \"\"\"\n",
    "    Picks up a random image, plot it and labels it with prediction and truth label\n",
    "    \"\"\"\n",
    "    # Set up random integer\n",
    "    i = random.randint(0,len(images))\n",
    "    \n",
    "    # Create prediction and images\n",
    "    target_image = images[i]\n",
    "    pred_probs = model.predict(target_image.reshape(1,28,28)) # 1 image 28 x 28 size\n",
    "    pred_label = classes[pred_probs.argmax()]\n",
    "    true_label = classes[true_labels[i]] \n",
    "    \n",
    "    # Plot the image\n",
    "    plt.imshow(target_image,cmap = plt.cm.binary)\n",
    "    \n",
    "    # Change the color of the titles depending on if the prediction is right or wrong\n",
    "    if pred_label == true_label:\n",
    "                    color = \"green\"\n",
    "\n",
    "    else:\n",
    "        color = \"red\"\n",
    "    \n",
    "    # Add the xlabel information (prediction/true label)\n",
    "    plt.xlabel(\"Pred: {} {:2.0f}% (True:{})\".format(pred_label,\n",
    "                                                  100*tf.reduce_max(pred_probs), # max value in pred_probs\n",
    "                                                  true_label),\n",
    "              color=color) # Set the color to green or red based on if prediction is right or wrong"
   ]
  },
  {
   "cell_type": "code",
   "execution_count": 59,
   "id": "69023b02",
   "metadata": {},
   "outputs": [
    {
     "name": "stdout",
     "output_type": "stream",
     "text": [
      "1/1 [==============================] - 0s 12ms/step\n"
     ]
    },
    {
     "data": {
      "image/png": "[encoded data removed]",
      "text/plain": [
       "<Figure size 432x288 with 1 Axes>"
      ]
     },
     "metadata": {
      "needs_background": "light"
     },
     "output_type": "display_data"
    }
   ],
   "source": [
    "plot_random_image(model=model_3,\n",
    "                  images=test_data_norm, # always make predictions on the same kind of data your model is trained on\n",
    "                  true_labels=test_labels,\n",
    "                  classes=class_names) "
   ]
  },
  {
   "cell_type": "markdown",
   "id": "7bd5948c",
   "metadata": {},
   "source": [
    "## What pattern in our model learning?"
   ]
  },
  {
   "cell_type": "code",
   "execution_count": 60,
   "id": "fe9c4f75",
   "metadata": {},
   "outputs": [
    {
     "data": {
      "text/plain": [
       "[<keras.layers.reshaping.flatten.Flatten at 0x29ccbf605b0>,\n",
       " <keras.layers.core.dense.Dense at 0x29ccb286190>,\n",
       " <keras.layers.core.dense.Dense at 0x29ccb286af0>,\n",
       " <keras.layers.core.dense.Dense at 0x29ccb286a30>]"
      ]
     },
     "execution_count": 60,
     "metadata": {},
     "output_type": "execute_result"
    }
   ],
   "source": [
    "# Find the layers of our most recent model\n",
    "model_3.layers"
   ]
  },
  {
   "cell_type": "code",
   "execution_count": 61,
   "id": "f337659e",
   "metadata": {},
   "outputs": [
    {
     "data": {
      "text/plain": [
       "<keras.layers.core.dense.Dense at 0x29ccb286190>"
      ]
     },
     "execution_count": 61,
     "metadata": {},
     "output_type": "execute_result"
    }
   ],
   "source": [
    "# Extract a particular layer\n",
    "model_3.layers[1]"
   ]
  },
  {
   "cell_type": "markdown",
   "id": "08a08804",
   "metadata": {},
   "source": [
    "### Get the pattern of layer in our network"
   ]
  },
  {
   "cell_type": "code",
   "execution_count": 64,
   "id": "640c37e7",
   "metadata": {},
   "outputs": [
    {
     "data": {
      "text/plain": [
       "(array([[ 0.7150266 , -0.06077115, -0.99763054, -1.0484313 ],\n",
       "        [ 0.27732134, -0.47155404, -0.5291646 ,  0.02329272],\n",
       "        [ 0.77524316,  0.5402757 , -1.1288565 , -0.7426151 ],\n",
       "        ...,\n",
       "        [-0.3945338 ,  0.47628647, -0.22641523,  0.2550592 ],\n",
       "        [-0.40515807,  0.6181004 ,  0.23928443, -0.5038762 ],\n",
       "        [ 0.23884568,  0.1160692 , -0.1213136 ,  0.04352422]],\n",
       "       dtype=float32),\n",
       " (784, 4))"
      ]
     },
     "execution_count": 64,
     "metadata": {},
     "output_type": "execute_result"
    }
   ],
   "source": [
    "weights, biases = model_3.layers[1].get_weights() # (weight & biases -> can be called as o/p)\n",
    "\n",
    "# Shapes\n",
    "weights, weights.shape \n",
    "\n",
    "# here 784 is - 28x28 and 4 is number of hidden units\n",
    "# means it learns 4 number at one time to 784 times"
   ]
  },
  {
   "cell_type": "code",
   "execution_count": 63,
   "id": "f6daf5bd",
   "metadata": {},
   "outputs": [
    {
     "data": {
      "text/plain": [
       "784"
      ]
     },
     "execution_count": 63,
     "metadata": {},
     "output_type": "execute_result"
    }
   ],
   "source": [
    "28 * 28"
   ]
  },
  {
   "cell_type": "code",
   "execution_count": 65,
   "id": "9dad0f7d",
   "metadata": {},
   "outputs": [
    {
     "name": "stdout",
     "output_type": "stream",
     "text": [
      "Model: \"sequential_5\"\n",
      "_________________________________________________________________\n",
      " Layer (type)                Output Shape              Param #   \n",
      "=================================================================\n",
      " flatten_5 (Flatten)         (None, 784)               0         \n",
      "                                                                 \n",
      " dense_12 (Dense)            (None, 4)                 3140      \n",
      "                                                                 \n",
      " dense_13 (Dense)            (None, 4)                 20        \n",
      "                                                                 \n",
      " dense_14 (Dense)            (None, 10)                50        \n",
      "                                                                 \n",
      "=================================================================\n",
      "Total params: 3,210\n",
      "Trainable params: 3,210\n",
      "Non-trainable params: 0\n",
      "_________________________________________________________________\n"
     ]
    }
   ],
   "source": [
    "model_3.summary()"
   ]
  },
  {
   "cell_type": "markdown",
   "id": "eca7eedb",
   "metadata": {},
   "source": [
    "### Now let's check out the bias vector..."
   ]
  },
  {
   "cell_type": "code",
   "execution_count": 66,
   "id": "0e3dd89f",
   "metadata": {},
   "outputs": [
    {
     "data": {
      "text/plain": [
       "(array([ 2.4486156e-02, -6.1503169e-04, -2.7230170e-01,  8.1124920e-01],\n",
       "       dtype=float32),\n",
       " (4,))"
      ]
     },
     "execution_count": 66,
     "metadata": {},
     "output_type": "execute_result"
    }
   ],
   "source": [
    "# Bias and biases shapes\n",
    "biases, biases.shape # first layer of model-3"
   ]
  },
  {
   "cell_type": "markdown",
   "id": "8ed2e586",
   "metadata": {},
   "source": [
    "**Every nueron has a bias vector. Each of these is paired with a weights matrix.**\n",
    "\n",
    "**The bias vector got initialized as zeros (at least in case of tensorflow dense layer).**\n",
    "\n",
    "**The bias vector dictates how much the pattern within the corresponding weights matrix should influence next layer**\n",
    " "
   ]
  },
  {
   "cell_type": "markdown",
   "id": "12300c96",
   "metadata": {},
   "source": [
    "### For each layer in output its previous layers works as its input as one layer affects the working and flow of another layer"
   ]
  },
  {
   "cell_type": "code",
   "execution_count": 68,
   "id": "2b586f62",
   "metadata": {},
   "outputs": [
    {
     "data": {
      "image/png": "[encoded data removed]",
      "text/plain": [
       "<IPython.core.display.Image object>"
      ]
     },
     "execution_count": 68,
     "metadata": {},
     "output_type": "execute_result"
    }
   ],
   "source": [
    "# Let's check another way of viewing our deep laearning models\n",
    "from tensorflow.keras.utils import plot_model\n",
    "# see the input and output of each layer\n",
    "plot_model(model_3,show_shapes=True)"
   ]
  },
  {
   "cell_type": "markdown",
   "id": "192cebab",
   "metadata": {},
   "source": [
    "#### 10 is how many classes we have"
   ]
  },
  {
   "cell_type": "code",
   "execution_count": null,
   "id": "7dc8bbc0",
   "metadata": {},
   "outputs": [],
   "source": []
  }
 ],
 "metadata": {
  "kernelspec": {
   "display_name": "Python 3 (ipykernel)",
   "language": "python",
   "name": "python3"
  },
  "language_info": {
   "codemirror_mode": {
    "name": "ipython",
    "version": 3
   },
   "file_extension": ".py",
   "mimetype": "text/x-python",
   "name": "python",
   "nbconvert_exporter": "python",
   "pygments_lexer": "ipython3",
   "version": "3.9.12"
  }
 },
 "nbformat": 4,
 "nbformat_minor": 5
}
